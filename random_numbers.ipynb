{
 "cells": [
  {
   "cell_type": "code",
   "execution_count": 1,
   "id": "19e75f92",
   "metadata": {},
   "outputs": [],
   "source": [
    "# Import the random module.\n",
    "import random"
   ]
  },
  {
   "cell_type": "code",
   "execution_count": 2,
   "id": "d8b993d4",
   "metadata": {},
   "outputs": [
    {
     "data": {
      "text/plain": [
       "68"
      ]
     },
     "execution_count": 2,
     "metadata": {},
     "output_type": "execute_result"
    }
   ],
   "source": [
    "random.randint(-90,90)"
   ]
  },
  {
   "cell_type": "code",
   "execution_count": 3,
   "id": "08fc8aaa",
   "metadata": {},
   "outputs": [
    {
     "data": {
      "text/plain": [
       "0.3168611771986861"
      ]
     },
     "execution_count": 3,
     "metadata": {},
     "output_type": "execute_result"
    }
   ],
   "source": [
    "random.random()"
   ]
  },
  {
   "cell_type": "code",
   "execution_count": 4,
   "id": "1b6c7b67",
   "metadata": {},
   "outputs": [
    {
     "data": {
      "text/plain": [
       "-16.047608425913094"
      ]
     },
     "execution_count": 4,
     "metadata": {},
     "output_type": "execute_result"
    }
   ],
   "source": [
    "random_number = random.randint(-90, 89) + random.random()\n",
    "random_number"
   ]
  },
  {
   "cell_type": "code",
   "execution_count": 6,
   "id": "409fa004",
   "metadata": {},
   "outputs": [
    {
     "data": {
      "text/plain": [
       "[15.147692548114053,\n",
       " -25.822684389895198,\n",
       " 55.72336948801782,\n",
       " 80.56279955219165,\n",
       " -85.3187099870588,\n",
       " -83.68055470048486,\n",
       " -71.97308813178572,\n",
       " 33.35188233961198,\n",
       " 38.89166475818644,\n",
       " -33.94038166653432]"
      ]
     },
     "execution_count": 6,
     "metadata": {},
     "output_type": "execute_result"
    }
   ],
   "source": [
    "x = 1\n",
    "latitudes = []\n",
    "while x < 11:\n",
    "    random_lat = random.randint(-90, 89) + random.random()\n",
    "    latitudes.append(random_lat)\n",
    "    x += 1\n",
    "latitudes"
   ]
  },
  {
   "cell_type": "code",
   "execution_count": 7,
   "id": "b6085dc6",
   "metadata": {},
   "outputs": [
    {
     "data": {
      "text/plain": [
       "-18"
      ]
     },
     "execution_count": 7,
     "metadata": {},
     "output_type": "execute_result"
    }
   ],
   "source": [
    "random.randrange(-90, 90, step=1)"
   ]
  },
  {
   "cell_type": "code",
   "execution_count": 8,
   "id": "f2430c66",
   "metadata": {},
   "outputs": [
    {
     "data": {
      "text/plain": [
       "-84"
      ]
     },
     "execution_count": 8,
     "metadata": {},
     "output_type": "execute_result"
    }
   ],
   "source": [
    "random.randrange(-90, 90, step=3)"
   ]
  },
  {
   "cell_type": "code",
   "execution_count": 9,
   "id": "eeede887",
   "metadata": {},
   "outputs": [
    {
     "data": {
      "text/plain": [
       "62.5224875738767"
      ]
     },
     "execution_count": 9,
     "metadata": {},
     "output_type": "execute_result"
    }
   ],
   "source": [
    "random.uniform(-90, 90)"
   ]
  },
  {
   "cell_type": "code",
   "execution_count": 10,
   "id": "da486832",
   "metadata": {},
   "outputs": [],
   "source": [
    "# Summary\n",
    "# randint(-90, 89) - integer between -90 and 89\n",
    "# random() - float decimal between 0 and 1\n",
    "# randrange(-90, 90, step=1) - interger between -90 and 89 where step is the diff between each number\n",
    "# uniform(-90, 90) - float decimal between -90 and 90"
   ]
  },
  {
   "cell_type": "code",
   "execution_count": 11,
   "id": "9d0ddcf7",
   "metadata": {},
   "outputs": [],
   "source": [
    "# Import the NumPy module.\n",
    "import numpy as np"
   ]
  },
  {
   "cell_type": "code",
   "execution_count": 12,
   "id": "c6760479",
   "metadata": {},
   "outputs": [
    {
     "data": {
      "text/plain": [
       "16.38845830655076"
      ]
     },
     "execution_count": 12,
     "metadata": {},
     "output_type": "execute_result"
    }
   ],
   "source": [
    "np.random.uniform(-90.000, 90.000)"
   ]
  },
  {
   "cell_type": "code",
   "execution_count": 13,
   "id": "3b145698",
   "metadata": {},
   "outputs": [
    {
     "data": {
      "text/plain": [
       "array([ 27.24535269,  -7.09826919, -82.27928662,  38.71271   ,\n",
       "        79.74052569,  -7.64979295,  73.26467553,  85.81592573,\n",
       "       -18.43843514,  33.85420101, -14.94189207,  83.49489433,\n",
       "       -80.45072598,   9.23411912, -23.82305878, -74.80859709,\n",
       "        -6.55377387, -21.13849346,   8.4549828 , -46.94460959,\n",
       "       -26.91878992, -25.02596302, -60.99952269, -28.78589014,\n",
       "        86.71277886,  63.17104271,  24.68006586, -57.30704637,\n",
       "       -49.59716163, -58.78471681, -89.92013005, -82.31538419,\n",
       "       -56.77460851, -30.37685914, -57.79585905, -61.62574513,\n",
       "       -15.81969775, -49.91744869,  51.63983052,   1.71861177,\n",
       "        19.38006418,  89.44464804,  69.3420663 , -21.21020296,\n",
       "        26.14376915, -46.53519118,  40.55470882,  85.66395511,\n",
       "         9.92478889, -49.83527452])"
      ]
     },
     "execution_count": 13,
     "metadata": {},
     "output_type": "execute_result"
    }
   ],
   "source": [
    "np.random.uniform(-90.000, 90.000, size=50)"
   ]
  },
  {
   "cell_type": "code",
   "execution_count": 14,
   "id": "0f98a245",
   "metadata": {},
   "outputs": [],
   "source": [
    "# Import timeit.\n",
    "import timeit"
   ]
  },
  {
   "cell_type": "code",
   "execution_count": 15,
   "id": "10ac82a0",
   "metadata": {},
   "outputs": [
    {
     "name": "stdout",
     "output_type": "stream",
     "text": [
      "13.9 µs ± 367 ns per loop (mean ± std. dev. of 7 runs, 100000 loops each)\n"
     ]
    }
   ],
   "source": [
    "%timeit np.random.uniform(-90.000, 90.000, size=1500)\n"
   ]
  },
  {
   "cell_type": "code",
   "execution_count": 16,
   "id": "84905a3c",
   "metadata": {},
   "outputs": [
    {
     "name": "stdout",
     "output_type": "stream",
     "text": [
      "1.67 ms ± 12.7 µs per loop (mean ± std. dev. of 7 runs, 1000 loops each)\n"
     ]
    }
   ],
   "source": [
    "def latitudes(size):\n",
    "    latitudes = []\n",
    "    x = 0\n",
    "    while x < (size):\n",
    "        random_lat = random.randint(-90, 90) + random.random()\n",
    "        latitudes.append(random_lat)\n",
    "        x += 1\n",
    "    return latitudes\n",
    "# Call the function with 1500.\n",
    "%timeit latitudes(1500)"
   ]
  },
  {
   "cell_type": "code",
   "execution_count": null,
   "id": "e1a16baf",
   "metadata": {},
   "outputs": [],
   "source": []
  }
 ],
 "metadata": {
  "kernelspec": {
   "display_name": "PythonData",
   "language": "python",
   "name": "pythondata"
  },
  "language_info": {
   "codemirror_mode": {
    "name": "ipython",
    "version": 3
   },
   "file_extension": ".py",
   "mimetype": "text/x-python",
   "name": "python",
   "nbconvert_exporter": "python",
   "pygments_lexer": "ipython3",
   "version": "3.7.13"
  }
 },
 "nbformat": 4,
 "nbformat_minor": 5
}
